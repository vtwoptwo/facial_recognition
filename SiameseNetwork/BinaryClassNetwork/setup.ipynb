{
 "cells": [
  {
   "cell_type": "code",
   "execution_count": 3,
   "metadata": {},
   "outputs": [],
   "source": [
    "\n",
    "\n",
    "# Import standard dependencies\n",
    "import cv2\n",
    "import os\n",
    "import random\n",
    "import numpy as np\n",
    "from matplotlib import pyplot as plt\n",
    "import uuid"
   ]
  },
  {
   "cell_type": "code",
   "execution_count": 4,
   "metadata": {},
   "outputs": [],
   "source": [
    "# Import tensorflow dependencies - Functional API \n",
    "\n",
    "from tensorflow.keras.models import Model \n",
    "from tensorflow.keras.layers import Layer, Conv2D, Dense, MaxPooling2D, Input, Flatten \n",
    "import tensorflow as tf\n"
   ]
  },
  {
   "cell_type": "code",
   "execution_count": 5,
   "metadata": {},
   "outputs": [
    {
     "name": "stdout",
     "output_type": "stream",
     "text": [
      "Num GPUs Available:  1 [PhysicalDevice(name='/physical_device:GPU:0', device_type='GPU')]\n"
     ]
    }
   ],
   "source": [
    "# Set GPU memory growth \n",
    "\n",
    "# Avoid OOM error by setting GPU Memroy Consumption Growth\n",
    "\n",
    "gpus = tf.config.experimental.list_physical_devices('GPU') # access the gpus available on the machine\n",
    "for gpu in gpus:\n",
    "    tf.config.experimental.set_memory_growth(gpu, True)\n",
    "print(\"Num GPUs Available: \", len(tf.config.experimental.list_physical_devices('GPU')) , gpus) "
   ]
  },
  {
   "cell_type": "code",
   "execution_count": 6,
   "metadata": {},
   "outputs": [],
   "source": [
    "# One shot classification through siamese networks\n",
    "# Anchor plus a Verification Image\n",
    "\n",
    "# geneatre the paths\n",
    "\n",
    "BASE = os.path.join('data', 'base')\n",
    "COR = os.path.join('data', 'positive')\n",
    "INCOR = os.path.join('data', 'negative')\n",
    "\n",
    "\n",
    "\n"
   ]
  },
  {
   "cell_type": "code",
   "execution_count": 7,
   "metadata": {},
   "outputs": [],
   "source": [
    "# make directories\n",
    "\n",
    "for path in [BASE, COR, INCOR]:\n",
    "    if not os.path.exists(path):\n",
    "        os.makedirs(path)\n",
    "\n",
    "        "
   ]
  },
  {
   "cell_type": "code",
   "execution_count": 8,
   "metadata": {},
   "outputs": [
    {
     "name": "stdout",
     "output_type": "stream",
     "text": [
      "Skipping download\n"
     ]
    }
   ],
   "source": [
    "# Download the dataset\n",
    "\n",
    "if input(\"Download the dataset? (y/n)\") == 'y':\n",
    "    !curl -O http://vis-www.cs.umass.edu/lfw/lfw.tgz\n",
    "    !tar -xvf lfw.tgz\n",
    "    !rm lfw.tgz\n",
    "\n",
    "    for dir in os.listdir('lfw'): \n",
    "        for file in os.listdir(os.path.join('lfw', dir)):\n",
    "            current = os.path.join('lfw', dir, file)\n",
    "            final = os.path.join(INCOR, file)\n",
    "            os.replace(current, final)\n",
    "\n",
    "else: \n",
    "    print(\"Skipping download\")\n",
    "    \n",
    "\n",
    "url = 'http://vis-www.cs.umass.edu/lfw/'\n",
    "\n",
    "\n",
    "\n",
    "\n",
    "\n",
    "\n"
   ]
  },
  {
   "cell_type": "code",
   "execution_count": 9,
   "metadata": {},
   "outputs": [
    {
     "name": "stdout",
     "output_type": "stream",
     "text": [
      "(250, 250, 3)\n"
     ]
    }
   ],
   "source": [
    "# check the dimensions of one image\n",
    "\n",
    "img = cv2.imread(os.path.join(INCOR, os.listdir(INCOR)[0]))\n",
    "print(img.shape)"
   ]
  }
 ],
 "metadata": {
  "kernelspec": {
   "display_name": ".venv",
   "language": "python",
   "name": "python3"
  },
  "language_info": {
   "codemirror_mode": {
    "name": "ipython",
    "version": 3
   },
   "file_extension": ".py",
   "mimetype": "text/x-python",
   "name": "python",
   "nbconvert_exporter": "python",
   "pygments_lexer": "ipython3",
   "version": "3.9.7"
  },
  "orig_nbformat": 4
 },
 "nbformat": 4,
 "nbformat_minor": 2
}
